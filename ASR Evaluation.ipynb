{
 "cells": [
  {
   "cell_type": "code",
   "execution_count": 2,
   "id": "a628743f-1e12-4813-9e03-d354cedbb22e",
   "metadata": {},
   "outputs": [
    {
     "name": "stdout",
     "output_type": "stream",
     "text": [
      "Wait until it says 'speak now'\n"
     ]
    },
    {
     "name": "stderr",
     "output_type": "stream",
     "text": [
      "ALSA lib pcm_dsnoop.c:567:(snd_pcm_dsnoop_open) unable to open slave\n",
      "ALSA lib pcm_dmix.c:1000:(snd_pcm_dmix_open) unable to open slave\n",
      "ALSA lib pcm.c:2721:(snd_pcm_open_noupdate) Unknown PCM cards.pcm.rear\n",
      "ALSA lib pcm.c:2721:(snd_pcm_open_noupdate) Unknown PCM cards.pcm.center_lfe\n",
      "ALSA lib pcm.c:2721:(snd_pcm_open_noupdate) Unknown PCM cards.pcm.side\n",
      "Cannot connect to server socket err = No such file or directory\n",
      "Cannot connect to server request channel\n",
      "jack server is not running or cannot be started\n",
      "JackShmReadWritePtr::~JackShmReadWritePtr - Init not done for -1, skipping unlock\n",
      "JackShmReadWritePtr::~JackShmReadWritePtr - Init not done for -1, skipping unlock\n",
      "Cannot connect to server socket err = No such file or directory\n",
      "Cannot connect to server request channel\n",
      "jack server is not running or cannot be started\n",
      "JackShmReadWritePtr::~JackShmReadWritePtr - Init not done for -1, skipping unlock\n",
      "JackShmReadWritePtr::~JackShmReadWritePtr - Init not done for -1, skipping unlock\n",
      "ALSA lib pcm_oss.c:397:(_snd_pcm_oss_open) Cannot open device /dev/dsp\n",
      "ALSA lib pcm_oss.c:397:(_snd_pcm_oss_open) Cannot open device /dev/dsp\n",
      "ALSA lib pcm_a52.c:1001:(_snd_pcm_a52_open) a52 is only for playback\n",
      "ALSA lib confmisc.c:160:(snd_config_get_card) Invalid field card\n",
      "ALSA lib pcm_usb_stream.c:482:(_snd_pcm_usb_stream_open) Invalid card 'card'\n",
      "ALSA lib confmisc.c:160:(snd_config_get_card) Invalid field card\n",
      "ALSA lib pcm_usb_stream.c:482:(_snd_pcm_usb_stream_open) Invalid card 'card'\n",
      "ALSA lib pcm_dmix.c:1000:(snd_pcm_dmix_open) unable to open slave\n",
      "Cannot connect to server socket err = No such file or directory\n",
      "Cannot connect to server request channel\n",
      "jack server is not running or cannot be started\n",
      "JackShmReadWritePtr::~JackShmReadWritePtr - Init not done for -1, skipping unlock\n",
      "JackShmReadWritePtr::~JackShmReadWritePtr - Init not done for -1, skipping unlock\n",
      "[2025-05-13 13:59:22.218] [ctranslate2] [thread 44779] [warning] The compute type inferred from the saved model is float16, but the target device or backend do not support efficient float16 computation. The model weights have been automatically converted to use the float32 compute type instead.\n"
     ]
    },
    {
     "name": "stdout",
     "output_type": "stream",
     "text": [
      "Model medium completed transcription in 6.41 seconds\n",
      "यारे लोड करा इंडा मारे हैं मुझे बड़ा लिए.\n",
      "⠼ transcribing"
     ]
    },
    {
     "ename": "KeyboardInterrupt",
     "evalue": "",
     "output_type": "error",
     "traceback": [
      "\u001b[0;31m---------------------------------------------------------------------------\u001b[0m",
      "\u001b[0;31mKeyboardInterrupt\u001b[0m                         Traceback (most recent call last)",
      "Cell \u001b[0;32mIn[2], line 12\u001b[0m\n\u001b[1;32m      8\u001b[0m     \u001b[38;5;28mprint\u001b[39m(text)\n\u001b[1;32m     10\u001b[0m \u001b[38;5;28;01mwhile\u001b[39;00m \u001b[38;5;28;01mTrue\u001b[39;00m:\n\u001b[1;32m     11\u001b[0m     \u001b[38;5;66;03m# recorder.text(speak_from_prompt)\u001b[39;00m\n\u001b[0;32m---> 12\u001b[0m     \u001b[43mrecorder\u001b[49m\u001b[38;5;241;43m.\u001b[39;49m\u001b[43mtext\u001b[49m\u001b[43m(\u001b[49m\u001b[43mpr\u001b[49m\u001b[43m)\u001b[49m\n\u001b[1;32m     13\u001b[0m     \u001b[38;5;66;03m#small, large\u001b[39;00m\n",
      "File \u001b[0;32m~/.pyenv/versions/3.10.13/envs/pyvoice/lib/python3.10/site-packages/RealtimeSTT/audio_recorder.py:1671\u001b[0m, in \u001b[0;36mAudioToTextRecorder.text\u001b[0;34m(self, on_transcription_finished)\u001b[0m\n\u001b[1;32m   1667\u001b[0m     \u001b[38;5;28;01mreturn\u001b[39;00m \u001b[38;5;124m\"\u001b[39m\u001b[38;5;124m\"\u001b[39m\n\u001b[1;32m   1669\u001b[0m \u001b[38;5;28;01mif\u001b[39;00m on_transcription_finished:\n\u001b[1;32m   1670\u001b[0m     threading\u001b[38;5;241m.\u001b[39mThread(target\u001b[38;5;241m=\u001b[39mon_transcription_finished,\n\u001b[0;32m-> 1671\u001b[0m                     args\u001b[38;5;241m=\u001b[39m(\u001b[38;5;28;43mself\u001b[39;49m\u001b[38;5;241;43m.\u001b[39;49m\u001b[43mtranscribe\u001b[49m\u001b[43m(\u001b[49m\u001b[43m)\u001b[49m,))\u001b[38;5;241m.\u001b[39mstart()\n\u001b[1;32m   1672\u001b[0m \u001b[38;5;28;01melse\u001b[39;00m:\n\u001b[1;32m   1673\u001b[0m     \u001b[38;5;28;01mreturn\u001b[39;00m \u001b[38;5;28mself\u001b[39m\u001b[38;5;241m.\u001b[39mtranscribe()\n",
      "File \u001b[0;32m~/.pyenv/versions/3.10.13/envs/pyvoice/lib/python3.10/site-packages/RealtimeSTT/audio_recorder.py:1588\u001b[0m, in \u001b[0;36mAudioToTextRecorder.transcribe\u001b[0;34m(self)\u001b[0m\n\u001b[1;32m   1586\u001b[0m     \u001b[38;5;28;01mreturn\u001b[39;00m \u001b[38;5;28;01mNone\u001b[39;00m\n\u001b[1;32m   1587\u001b[0m \u001b[38;5;28;01melse\u001b[39;00m:\n\u001b[0;32m-> 1588\u001b[0m     \u001b[38;5;28;01mreturn\u001b[39;00m \u001b[38;5;28;43mself\u001b[39;49m\u001b[38;5;241;43m.\u001b[39;49m\u001b[43mperform_final_transcription\u001b[49m\u001b[43m(\u001b[49m\u001b[43maudio_copy\u001b[49m\u001b[43m)\u001b[49m\n",
      "File \u001b[0;32m~/.pyenv/versions/3.10.13/envs/pyvoice/lib/python3.10/site-packages/RealtimeSTT/audio_recorder.py:1520\u001b[0m, in \u001b[0;36mAudioToTextRecorder.perform_final_transcription\u001b[0;34m(self, audio_bytes, use_prompt)\u001b[0m\n\u001b[1;32m   1518\u001b[0m \u001b[38;5;28;01mwhile\u001b[39;00m \u001b[38;5;28mself\u001b[39m\u001b[38;5;241m.\u001b[39mtranscribe_count \u001b[38;5;241m>\u001b[39m \u001b[38;5;241m0\u001b[39m:\n\u001b[1;32m   1519\u001b[0m     logger\u001b[38;5;241m.\u001b[39mdebug(\u001b[38;5;124mF\u001b[39m\u001b[38;5;124m\"\u001b[39m\u001b[38;5;124mReceive from parent_transcription_pipe after sendiung transcription request, transcribe_count: \u001b[39m\u001b[38;5;132;01m{\u001b[39;00m\u001b[38;5;28mself\u001b[39m\u001b[38;5;241m.\u001b[39mtranscribe_count\u001b[38;5;132;01m}\u001b[39;00m\u001b[38;5;124m\"\u001b[39m)\n\u001b[0;32m-> 1520\u001b[0m     \u001b[38;5;28;01mif\u001b[39;00m \u001b[38;5;129;01mnot\u001b[39;00m \u001b[38;5;28;43mself\u001b[39;49m\u001b[38;5;241;43m.\u001b[39;49m\u001b[43mparent_transcription_pipe\u001b[49m\u001b[38;5;241;43m.\u001b[39;49m\u001b[43mpoll\u001b[49m\u001b[43m(\u001b[49m\u001b[38;5;241;43m0.1\u001b[39;49m\u001b[43m)\u001b[49m: \u001b[38;5;66;03m# check if transcription done\u001b[39;00m\n\u001b[1;32m   1521\u001b[0m         \u001b[38;5;28;01mif\u001b[39;00m \u001b[38;5;28mself\u001b[39m\u001b[38;5;241m.\u001b[39minterrupt_stop_event\u001b[38;5;241m.\u001b[39mis_set(): \u001b[38;5;66;03m# check if interrupted\u001b[39;00m\n\u001b[1;32m   1522\u001b[0m             \u001b[38;5;28mself\u001b[39m\u001b[38;5;241m.\u001b[39mwas_interrupted\u001b[38;5;241m.\u001b[39mset()\n",
      "File \u001b[0;32m~/.pyenv/versions/3.10.13/envs/pyvoice/lib/python3.10/site-packages/RealtimeSTT/safepipe.py:155\u001b[0m, in \u001b[0;36mParentPipe.poll\u001b[0;34m(self, timeout)\u001b[0m\n\u001b[1;32m    152\u001b[0m \u001b[38;5;28mself\u001b[39m\u001b[38;5;241m.\u001b[39m_request_queue\u001b[38;5;241m.\u001b[39mput(request)\n\u001b[1;32m    153\u001b[0m \u001b[38;5;28;01mtry\u001b[39;00m:\n\u001b[1;32m    154\u001b[0m     \u001b[38;5;66;03m# Use a slightly longer timeout to give the worker a chance.\u001b[39;00m\n\u001b[0;32m--> 155\u001b[0m     result \u001b[38;5;241m=\u001b[39m \u001b[43mresult_queue\u001b[49m\u001b[38;5;241;43m.\u001b[39;49m\u001b[43mget\u001b[49m\u001b[43m(\u001b[49m\u001b[43mtimeout\u001b[49m\u001b[38;5;241;43m=\u001b[39;49m\u001b[43mtimeout\u001b[49m\u001b[43m \u001b[49m\u001b[38;5;241;43m+\u001b[39;49m\u001b[43m \u001b[49m\u001b[38;5;241;43m0.1\u001b[39;49m\u001b[43m)\u001b[49m\n\u001b[1;32m    156\u001b[0m \u001b[38;5;28;01mexcept\u001b[39;00m queue\u001b[38;5;241m.\u001b[39mEmpty:\n\u001b[1;32m    157\u001b[0m     result \u001b[38;5;241m=\u001b[39m \u001b[38;5;28;01mFalse\u001b[39;00m\n",
      "File \u001b[0;32m~/.pyenv/versions/3.10.13/lib/python3.10/queue.py:180\u001b[0m, in \u001b[0;36mQueue.get\u001b[0;34m(self, block, timeout)\u001b[0m\n\u001b[1;32m    178\u001b[0m         \u001b[38;5;28;01mif\u001b[39;00m remaining \u001b[38;5;241m<\u001b[39m\u001b[38;5;241m=\u001b[39m \u001b[38;5;241m0.0\u001b[39m:\n\u001b[1;32m    179\u001b[0m             \u001b[38;5;28;01mraise\u001b[39;00m Empty\n\u001b[0;32m--> 180\u001b[0m         \u001b[38;5;28;43mself\u001b[39;49m\u001b[38;5;241;43m.\u001b[39;49m\u001b[43mnot_empty\u001b[49m\u001b[38;5;241;43m.\u001b[39;49m\u001b[43mwait\u001b[49m\u001b[43m(\u001b[49m\u001b[43mremaining\u001b[49m\u001b[43m)\u001b[49m\n\u001b[1;32m    181\u001b[0m item \u001b[38;5;241m=\u001b[39m \u001b[38;5;28mself\u001b[39m\u001b[38;5;241m.\u001b[39m_get()\n\u001b[1;32m    182\u001b[0m \u001b[38;5;28mself\u001b[39m\u001b[38;5;241m.\u001b[39mnot_full\u001b[38;5;241m.\u001b[39mnotify()\n",
      "File \u001b[0;32m~/.pyenv/versions/3.10.13/lib/python3.10/threading.py:324\u001b[0m, in \u001b[0;36mCondition.wait\u001b[0;34m(self, timeout)\u001b[0m\n\u001b[1;32m    322\u001b[0m \u001b[38;5;28;01melse\u001b[39;00m:\n\u001b[1;32m    323\u001b[0m     \u001b[38;5;28;01mif\u001b[39;00m timeout \u001b[38;5;241m>\u001b[39m \u001b[38;5;241m0\u001b[39m:\n\u001b[0;32m--> 324\u001b[0m         gotit \u001b[38;5;241m=\u001b[39m \u001b[43mwaiter\u001b[49m\u001b[38;5;241;43m.\u001b[39;49m\u001b[43macquire\u001b[49m\u001b[43m(\u001b[49m\u001b[38;5;28;43;01mTrue\u001b[39;49;00m\u001b[43m,\u001b[49m\u001b[43m \u001b[49m\u001b[43mtimeout\u001b[49m\u001b[43m)\u001b[49m\n\u001b[1;32m    325\u001b[0m     \u001b[38;5;28;01melse\u001b[39;00m:\n\u001b[1;32m    326\u001b[0m         gotit \u001b[38;5;241m=\u001b[39m waiter\u001b[38;5;241m.\u001b[39macquire(\u001b[38;5;28;01mFalse\u001b[39;00m)\n",
      "\u001b[0;31mKeyboardInterrupt\u001b[0m: "
     ]
    },
    {
     "name": "stdout",
     "output_type": "stream",
     "text": [
      "Error in callback <function Halo.__init__.<locals>.clean_up at 0x79867b911630> (for post_run_cell), with arguments args (<ExecutionResult object at 7986e7648af0, execution_count=2 error_before_exec=None error_in_exec= info=<ExecutionInfo object at 7986e7648070, raw_cell=\"from RealtimeSTT import AudioToTextRecorder\n",
      "print(..\" store_history=True silent=False shell_futures=True cell_id=a628743f-1e12-4813-9e03-d354cedbb22e> result=None>,),kwargs {}:\n"
     ]
    },
    {
     "ename": "TypeError",
     "evalue": "Halo.__init__.<locals>.clean_up() takes 0 positional arguments but 1 was given",
     "output_type": "error",
     "traceback": [
      "\u001b[0;31m---------------------------------------------------------------------------\u001b[0m",
      "\u001b[0;31mTypeError\u001b[0m                                 Traceback (most recent call last)",
      "\u001b[0;31mTypeError\u001b[0m: Halo.__init__.<locals>.clean_up() takes 0 positional arguments but 1 was given"
     ]
    },
    {
     "name": "stdout",
     "output_type": "stream",
     "text": [
      "Error in callback <function Halo.__init__.<locals>.clean_up at 0x79867b911870> (for post_run_cell), with arguments args (<ExecutionResult object at 7986e7648af0, execution_count=2 error_before_exec=None error_in_exec= info=<ExecutionInfo object at 7986e7648070, raw_cell=\"from RealtimeSTT import AudioToTextRecorder\n",
      "print(..\" store_history=True silent=False shell_futures=True cell_id=a628743f-1e12-4813-9e03-d354cedbb22e> result=None>,),kwargs {}:⠴ transcribing\n"
     ]
    },
    {
     "ename": "TypeError",
     "evalue": "Halo.__init__.<locals>.clean_up() takes 0 positional arguments but 1 was given",
     "output_type": "error",
     "traceback": [
      "\u001b[0;31m---------------------------------------------------------------------------\u001b[0m",
      "\u001b[0;31mTypeError\u001b[0m                                 Traceback (most recent call last)",
      "\u001b[0;31mTypeError\u001b[0m: Halo.__init__.<locals>.clean_up() takes 0 positional arguments but 1 was given"
     ]
    },
    {
     "name": "stdout",
     "output_type": "stream",
     "text": [
      "Error in callback <function Halo.__init__.<locals>.clean_up at 0x79867b911ab0> (for post_run_cell), with arguments args (<ExecutionResult object at 7986e7648af0, execution_count=2 error_before_exec=None error_in_exec= info=<ExecutionInfo object at 7986e7648070, raw_cell=\"from RealtimeSTT import AudioToTextRecorder\n",
      "print(..\" store_history=True silent=False shell_futures=True cell_id=a628743f-1e12-4813-9e03-d354cedbb22e> result=None>,),kwargs {}:\n"
     ]
    },
    {
     "ename": "TypeError",
     "evalue": "Halo.__init__.<locals>.clean_up() takes 0 positional arguments but 1 was given",
     "output_type": "error",
     "traceback": [
      "\u001b[0;31m---------------------------------------------------------------------------\u001b[0m",
      "\u001b[0;31mTypeError\u001b[0m                                 Traceback (most recent call last)",
      "\u001b[0;31mTypeError\u001b[0m: Halo.__init__.<locals>.clean_up() takes 0 positional arguments but 1 was given"
     ]
    },
    {
     "name": "stdout",
     "output_type": "stream",
     "text": [
      "Error in callback <function Halo.__init__.<locals>.clean_up at 0x79867b911cf0> (for post_run_cell), with arguments args (<ExecutionResult object at 7986e7648af0, execution_count=2 error_before_exec=None error_in_exec= info=<ExecutionInfo object at 7986e7648070, raw_cell=\"from RealtimeSTT import AudioToTextRecorder\n",
      "print(..\" store_history=True silent=False shell_futures=True cell_id=a628743f-1e12-4813-9e03-d354cedbb22e> result=None>,),kwargs {}:\n"
     ]
    },
    {
     "ename": "TypeError",
     "evalue": "Halo.__init__.<locals>.clean_up() takes 0 positional arguments but 1 was given",
     "output_type": "error",
     "traceback": [
      "\u001b[0;31m---------------------------------------------------------------------------\u001b[0m",
      "\u001b[0;31mTypeError\u001b[0m                                 Traceback (most recent call last)",
      "\u001b[0;31mTypeError\u001b[0m: Halo.__init__.<locals>.clean_up() takes 0 positional arguments but 1 was given"
     ]
    },
    {
     "name": "stdout",
     "output_type": "stream",
     "text": [
      "Error in callback <function Halo.__init__.<locals>.clean_up at 0x79867b911d80> (for post_run_cell), with arguments args (<ExecutionResult object at 7986e7648af0, execution_count=2 error_before_exec=None error_in_exec= info=<ExecutionInfo object at 7986e7648070, raw_cell=\"from RealtimeSTT import AudioToTextRecorder\n",
      "print(..\" store_history=True silent=False shell_futures=True cell_id=a628743f-1e12-4813-9e03-d354cedbb22e> result=None>,),kwargs {}:\n"
     ]
    },
    {
     "ename": "TypeError",
     "evalue": "Halo.__init__.<locals>.clean_up() takes 0 positional arguments but 1 was given",
     "output_type": "error",
     "traceback": [
      "\u001b[0;31m---------------------------------------------------------------------------\u001b[0m",
      "\u001b[0;31mTypeError\u001b[0m                                 Traceback (most recent call last)",
      "\u001b[0;31mTypeError\u001b[0m: Halo.__init__.<locals>.clean_up() takes 0 positional arguments but 1 was given"
     ]
    },
    {
     "name": "stdout",
     "output_type": "stream",
     "text": [
      "Error in callback <function Halo.__init__.<locals>.clean_up at 0x79867b911e10> (for post_run_cell), with arguments args (<ExecutionResult object at 7986e7648af0, execution_count=2 error_before_exec=None error_in_exec= info=<ExecutionInfo object at 7986e7648070, raw_cell=\"from RealtimeSTT import AudioToTextRecorder\n",
      "print(..\" store_history=True silent=False shell_futures=True cell_id=a628743f-1e12-4813-9e03-d354cedbb22e> result=None>,),kwargs {}:\n"
     ]
    },
    {
     "ename": "TypeError",
     "evalue": "Halo.__init__.<locals>.clean_up() takes 0 positional arguments but 1 was given",
     "output_type": "error",
     "traceback": [
      "\u001b[0;31m---------------------------------------------------------------------------\u001b[0m",
      "\u001b[0;31mTypeError\u001b[0m                                 Traceback (most recent call last)",
      "\u001b[0;31mTypeError\u001b[0m: Halo.__init__.<locals>.clean_up() takes 0 positional arguments but 1 was given"
     ]
    },
    {
     "name": "stdout",
     "output_type": "stream",
     "text": [
      "Error in callback <function Halo.__init__.<locals>.clean_up at 0x79867b9120e0> (for post_run_cell), with arguments args (<ExecutionResult object at 7986e7648af0, execution_count=2 error_before_exec=None error_in_exec= info=<ExecutionInfo object at 7986e7648070, raw_cell=\"from RealtimeSTT import AudioToTextRecorder\n",
      "print(..\" store_history=True silent=False shell_futures=True cell_id=a628743f-1e12-4813-9e03-d354cedbb22e> result=None>,),kwargs {}:\n"
     ]
    },
    {
     "ename": "TypeError",
     "evalue": "Halo.__init__.<locals>.clean_up() takes 0 positional arguments but 1 was given",
     "output_type": "error",
     "traceback": [
      "\u001b[0;31m---------------------------------------------------------------------------\u001b[0m",
      "\u001b[0;31mTypeError\u001b[0m                                 Traceback (most recent call last)",
      "\u001b[0;31mTypeError\u001b[0m: Halo.__init__.<locals>.clean_up() takes 0 positional arguments but 1 was given"
     ]
    },
    {
     "name": "stdout",
     "output_type": "stream",
     "text": [
      "Error in callback <function Halo.__init__.<locals>.clean_up at 0x79867b912170> (for post_run_cell), with arguments args (<ExecutionResult object at 7986e7648af0, execution_count=2 error_before_exec=None error_in_exec= info=<ExecutionInfo object at 7986e7648070, raw_cell=\"from RealtimeSTT import AudioToTextRecorder\n",
      "print(..\" store_history=True silent=False shell_futures=True cell_id=a628743f-1e12-4813-9e03-d354cedbb22e> result=None>,),kwargs {}:\n"
     ]
    },
    {
     "ename": "TypeError",
     "evalue": "Halo.__init__.<locals>.clean_up() takes 0 positional arguments but 1 was given",
     "output_type": "error",
     "traceback": [
      "\u001b[0;31m---------------------------------------------------------------------------\u001b[0m",
      "\u001b[0;31mTypeError\u001b[0m                                 Traceback (most recent call last)",
      "\u001b[0;31mTypeError\u001b[0m: Halo.__init__.<locals>.clean_up() takes 0 positional arguments but 1 was given"
     ]
    },
    {
     "name": "stdout",
     "output_type": "stream",
     "text": [
      "Error in callback <function Halo.__init__.<locals>.clean_up at 0x79867b912560> (for post_run_cell), with arguments args (<ExecutionResult object at 7986e7648af0, execution_count=2 error_before_exec=None error_in_exec= info=<ExecutionInfo object at 7986e7648070, raw_cell=\"from RealtimeSTT import AudioToTextRecorder\n",
      "print(..\" store_history=True silent=False shell_futures=True cell_id=a628743f-1e12-4813-9e03-d354cedbb22e> result=None>,),kwargs {}:\n"
     ]
    },
    {
     "ename": "TypeError",
     "evalue": "Halo.__init__.<locals>.clean_up() takes 0 positional arguments but 1 was given",
     "output_type": "error",
     "traceback": [
      "\u001b[0;31m---------------------------------------------------------------------------\u001b[0m",
      "\u001b[0;31mTypeError\u001b[0m                                 Traceback (most recent call last)",
      "\u001b[0;31mTypeError\u001b[0m: Halo.__init__.<locals>.clean_up() takes 0 positional arguments but 1 was given"
     ]
    },
    {
     "name": "stdout",
     "output_type": "stream",
     "text": [
      "Error in callback <function Halo.__init__.<locals>.clean_up at 0x79867b9124d0> (for post_run_cell), with arguments args (<ExecutionResult object at 7986e7648af0, execution_count=2 error_before_exec=None error_in_exec= info=<ExecutionInfo object at 7986e7648070, raw_cell=\"from RealtimeSTT import AudioToTextRecorder\n",
      "print(..\" store_history=True silent=False shell_futures=True cell_id=a628743f-1e12-4813-9e03-d354cedbb22e> result=None>,),kwargs {}:\n"
     ]
    },
    {
     "ename": "TypeError",
     "evalue": "Halo.__init__.<locals>.clean_up() takes 0 positional arguments but 1 was given",
     "output_type": "error",
     "traceback": [
      "\u001b[0;31m---------------------------------------------------------------------------\u001b[0m",
      "\u001b[0;31mTypeError\u001b[0m                                 Traceback (most recent call last)",
      "\u001b[0;31mTypeError\u001b[0m: Halo.__init__.<locals>.clean_up() takes 0 positional arguments but 1 was given"
     ]
    },
    {
     "name": "stdout",
     "output_type": "stream",
     "text": [
      "Error in callback <function Halo.__init__.<locals>.clean_up at 0x79867b912710> (for post_run_cell), with arguments args (<ExecutionResult object at 7986e7648af0, execution_count=2 error_before_exec=None error_in_exec= info=<ExecutionInfo object at 7986e7648070, raw_cell=\"from RealtimeSTT import AudioToTextRecorder\n",
      "print(..\" store_history=True silent=False shell_futures=True cell_id=a628743f-1e12-4813-9e03-d354cedbb22e> result=None>,),kwargs {}:\n"
     ]
    },
    {
     "ename": "TypeError",
     "evalue": "Halo.__init__.<locals>.clean_up() takes 0 positional arguments but 1 was given",
     "output_type": "error",
     "traceback": [
      "\u001b[0;31m---------------------------------------------------------------------------\u001b[0m",
      "\u001b[0;31mTypeError\u001b[0m                                 Traceback (most recent call last)",
      "\u001b[0;31mTypeError\u001b[0m: Halo.__init__.<locals>.clean_up() takes 0 positional arguments but 1 was given"
     ]
    },
    {
     "name": "stdout",
     "output_type": "stream",
     "text": [
      "Error in callback <function Halo.__init__.<locals>.clean_up at 0x79867b911ea0> (for post_run_cell), with arguments args (<ExecutionResult object at 7986e7648af0, execution_count=2 error_before_exec=None error_in_exec= info=<ExecutionInfo object at 7986e7648070, raw_cell=\"from RealtimeSTT import AudioToTextRecorder\n",
      "print(..\" store_history=True silent=False shell_futures=True cell_id=a628743f-1e12-4813-9e03-d354cedbb22e> result=None>,),kwargs {}:\n"
     ]
    },
    {
     "ename": "TypeError",
     "evalue": "Halo.__init__.<locals>.clean_up() takes 0 positional arguments but 1 was given",
     "output_type": "error",
     "traceback": [
      "\u001b[0;31m---------------------------------------------------------------------------\u001b[0m",
      "\u001b[0;31mTypeError\u001b[0m                                 Traceback (most recent call last)",
      "\u001b[0;31mTypeError\u001b[0m: Halo.__init__.<locals>.clean_up() takes 0 positional arguments but 1 was given"
     ]
    },
    {
     "name": "stdout",
     "output_type": "stream",
     "text": [
      "Error in callback <function Halo.__init__.<locals>.clean_up at 0x79867b912680> (for post_run_cell), with arguments args (<ExecutionResult object at 7986e7648af0, execution_count=2 error_before_exec=None error_in_exec= info=<ExecutionInfo object at 7986e7648070, raw_cell=\"from RealtimeSTT import AudioToTextRecorder\n",
      "print(..\" store_history=True silent=False shell_futures=True cell_id=a628743f-1e12-4813-9e03-d354cedbb22e> result=None>,),kwargs {}:\n"
     ]
    },
    {
     "ename": "TypeError",
     "evalue": "Halo.__init__.<locals>.clean_up() takes 0 positional arguments but 1 was given",
     "output_type": "error",
     "traceback": [
      "\u001b[0;31m---------------------------------------------------------------------------\u001b[0m",
      "\u001b[0;31mTypeError\u001b[0m                                 Traceback (most recent call last)",
      "\u001b[0;31mTypeError\u001b[0m: Halo.__init__.<locals>.clean_up() takes 0 positional arguments but 1 was given"
     ]
    },
    {
     "name": "stdout",
     "output_type": "stream",
     "text": [
      "Error in callback <function Halo.__init__.<locals>.clean_up at 0x79867b912830> (for post_run_cell), with arguments args (<ExecutionResult object at 7986e7648af0, execution_count=2 error_before_exec=None error_in_exec= info=<ExecutionInfo object at 7986e7648070, raw_cell=\"from RealtimeSTT import AudioToTextRecorder\n",
      "print(..\" store_history=True silent=False shell_futures=True cell_id=a628743f-1e12-4813-9e03-d354cedbb22e> result=None>,),kwargs {}:\n"
     ]
    },
    {
     "ename": "TypeError",
     "evalue": "Halo.__init__.<locals>.clean_up() takes 0 positional arguments but 1 was given",
     "output_type": "error",
     "traceback": [
      "\u001b[0;31m---------------------------------------------------------------------------\u001b[0m",
      "\u001b[0;31mTypeError\u001b[0m                                 Traceback (most recent call last)",
      "\u001b[0;31mTypeError\u001b[0m: Halo.__init__.<locals>.clean_up() takes 0 positional arguments but 1 was given"
     ]
    },
    {
     "name": "stdout",
     "output_type": "stream",
     "text": [
      "Error in callback <function Halo.__init__.<locals>.clean_up at 0x79867b912290> (for post_run_cell), with arguments args (<ExecutionResult object at 7986e7648af0, execution_count=2 error_before_exec=None error_in_exec= info=<ExecutionInfo object at 7986e7648070, raw_cell=\"from RealtimeSTT import AudioToTextRecorder\n",
      "print(..\" store_history=True silent=False shell_futures=True cell_id=a628743f-1e12-4813-9e03-d354cedbb22e> result=None>,),kwargs {}:\n",
      "⠦ transcribing"
     ]
    },
    {
     "ename": "TypeError",
     "evalue": "Halo.__init__.<locals>.clean_up() takes 0 positional arguments but 1 was given",
     "output_type": "error",
     "traceback": [
      "\u001b[0;31m---------------------------------------------------------------------------\u001b[0m",
      "\u001b[0;31mTypeError\u001b[0m                                 Traceback (most recent call last)",
      "\u001b[0;31mTypeError\u001b[0m: Halo.__init__.<locals>.clean_up() takes 0 positional arguments but 1 was given"
     ]
    },
    {
     "name": "stdout",
     "output_type": "stream",
     "text": [
      "Error in callback <function Halo.__init__.<locals>.clean_up at 0x79867b911a20> (for post_run_cell), with arguments args (<ExecutionResult object at 7986e7648af0, execution_count=2 error_before_exec=None error_in_exec= info=<ExecutionInfo object at 7986e7648070, raw_cell=\"from RealtimeSTT import AudioToTextRecorder\n",
      "print(..\" store_history=True silent=False shell_futures=True cell_id=a628743f-1e12-4813-9e03-d354cedbb22e> result=None>,),kwargs {}:\n"
     ]
    },
    {
     "ename": "TypeError",
     "evalue": "Halo.__init__.<locals>.clean_up() takes 0 positional arguments but 1 was given",
     "output_type": "error",
     "traceback": [
      "\u001b[0;31m---------------------------------------------------------------------------\u001b[0m",
      "\u001b[0;31mTypeError\u001b[0m                                 Traceback (most recent call last)",
      "\u001b[0;31mTypeError\u001b[0m: Halo.__init__.<locals>.clean_up() takes 0 positional arguments but 1 was given"
     ]
    },
    {
     "name": "stdout",
     "output_type": "stream",
     "text": [
      "Error in callback <function Halo.__init__.<locals>.clean_up at 0x79867b912440> (for post_run_cell), with arguments args (<ExecutionResult object at 7986e7648af0, execution_count=2 error_before_exec=None error_in_exec= info=<ExecutionInfo object at 7986e7648070, raw_cell=\"from RealtimeSTT import AudioToTextRecorder\n",
      "print(..\" store_history=True silent=False shell_futures=True cell_id=a628743f-1e12-4813-9e03-d354cedbb22e> result=None>,),kwargs {}:\n"
     ]
    },
    {
     "ename": "TypeError",
     "evalue": "Halo.__init__.<locals>.clean_up() takes 0 positional arguments but 1 was given",
     "output_type": "error",
     "traceback": [
      "\u001b[0;31m---------------------------------------------------------------------------\u001b[0m",
      "\u001b[0;31mTypeError\u001b[0m                                 Traceback (most recent call last)",
      "\u001b[0;31mTypeError\u001b[0m: Halo.__init__.<locals>.clean_up() takes 0 positional arguments but 1 was given"
     ]
    },
    {
     "name": "stdout",
     "output_type": "stream",
     "text": [
      "Error in callback <function Halo.__init__.<locals>.clean_up at 0x79867b912cb0> (for post_run_cell), with arguments args (<ExecutionResult object at 7986e7648af0, execution_count=2 error_before_exec=None error_in_exec= info=<ExecutionInfo object at 7986e7648070, raw_cell=\"from RealtimeSTT import AudioToTextRecorder\n",
      "print(..\" store_history=True silent=False shell_futures=True cell_id=a628743f-1e12-4813-9e03-d354cedbb22e> result=None>,),kwargs {}:\n"
     ]
    },
    {
     "ename": "TypeError",
     "evalue": "Halo.__init__.<locals>.clean_up() takes 0 positional arguments but 1 was given",
     "output_type": "error",
     "traceback": [
      "\u001b[0;31m---------------------------------------------------------------------------\u001b[0m",
      "\u001b[0;31mTypeError\u001b[0m                                 Traceback (most recent call last)",
      "\u001b[0;31mTypeError\u001b[0m: Halo.__init__.<locals>.clean_up() takes 0 positional arguments but 1 was given"
     ]
    },
    {
     "name": "stdout",
     "output_type": "stream",
     "text": [
      "Error in callback <function Halo.__init__.<locals>.clean_up at 0x79867b912e60> (for post_run_cell), with arguments args (<ExecutionResult object at 7986e7648af0, execution_count=2 error_before_exec=None error_in_exec= info=<ExecutionInfo object at 7986e7648070, raw_cell=\"from RealtimeSTT import AudioToTextRecorder\n",
      "print(..\" store_history=True silent=False shell_futures=True cell_id=a628743f-1e12-4813-9e03-d354cedbb22e> result=None>,),kwargs {}:\n"
     ]
    },
    {
     "ename": "TypeError",
     "evalue": "Halo.__init__.<locals>.clean_up() takes 0 positional arguments but 1 was given",
     "output_type": "error",
     "traceback": [
      "\u001b[0;31m---------------------------------------------------------------------------\u001b[0m",
      "\u001b[0;31mTypeError\u001b[0m                                 Traceback (most recent call last)",
      "\u001b[0;31mTypeError\u001b[0m: Halo.__init__.<locals>.clean_up() takes 0 positional arguments but 1 was given"
     ]
    },
    {
     "name": "stdout",
     "output_type": "stream",
     "text": [
      "Error in callback <function Halo.__init__.<locals>.clean_up at 0x79867b912b00> (for post_run_cell), with arguments args (<ExecutionResult object at 7986e7648af0, execution_count=2 error_before_exec=None error_in_exec= info=<ExecutionInfo object at 7986e7648070, raw_cell=\"from RealtimeSTT import AudioToTextRecorder\n",
      "print(..\" store_history=True silent=False shell_futures=True cell_id=a628743f-1e12-4813-9e03-d354cedbb22e> result=None>,),kwargs {}:\n"
     ]
    },
    {
     "ename": "TypeError",
     "evalue": "Halo.__init__.<locals>.clean_up() takes 0 positional arguments but 1 was given",
     "output_type": "error",
     "traceback": [
      "\u001b[0;31m---------------------------------------------------------------------------\u001b[0m",
      "\u001b[0;31mTypeError\u001b[0m                                 Traceback (most recent call last)",
      "\u001b[0;31mTypeError\u001b[0m: Halo.__init__.<locals>.clean_up() takes 0 positional arguments but 1 was given"
     ]
    },
    {
     "name": "stdout",
     "output_type": "stream",
     "text": [
      "Error in callback <function Halo.__init__.<locals>.clean_up at 0x79867b912dd0> (for post_run_cell), with arguments args (<ExecutionResult object at 7986e7648af0, execution_count=2 error_before_exec=None error_in_exec= info=<ExecutionInfo object at 7986e7648070, raw_cell=\"from RealtimeSTT import AudioToTextRecorder\n",
      "print(..\" store_history=True silent=False shell_futures=True cell_id=a628743f-1e12-4813-9e03-d354cedbb22e> result=None>,),kwargs {}:\n"
     ]
    },
    {
     "ename": "TypeError",
     "evalue": "Halo.__init__.<locals>.clean_up() takes 0 positional arguments but 1 was given",
     "output_type": "error",
     "traceback": [
      "\u001b[0;31m---------------------------------------------------------------------------\u001b[0m",
      "\u001b[0;31mTypeError\u001b[0m                                 Traceback (most recent call last)",
      "\u001b[0;31mTypeError\u001b[0m: Halo.__init__.<locals>.clean_up() takes 0 positional arguments but 1 was given"
     ]
    },
    {
     "name": "stdout",
     "output_type": "stream",
     "text": [
      "Error in callback <function Halo.__init__.<locals>.clean_up at 0x7986e76371c0> (for post_run_cell), with arguments args (<ExecutionResult object at 7986e7648af0, execution_count=2 error_before_exec=None error_in_exec= info=<ExecutionInfo object at 7986e7648070, raw_cell=\"from RealtimeSTT import AudioToTextRecorder\n",
      "print(..\" store_history=True silent=False shell_futures=True cell_id=a628743f-1e12-4813-9e03-d354cedbb22e> result=None>,),kwargs {}:\n"
     ]
    },
    {
     "ename": "TypeError",
     "evalue": "Halo.__init__.<locals>.clean_up() takes 0 positional arguments but 1 was given",
     "output_type": "error",
     "traceback": [
      "\u001b[0;31m---------------------------------------------------------------------------\u001b[0m",
      "\u001b[0;31mTypeError\u001b[0m                                 Traceback (most recent call last)",
      "\u001b[0;31mTypeError\u001b[0m: Halo.__init__.<locals>.clean_up() takes 0 positional arguments but 1 was given"
     ]
    },
    {
     "name": "stdout",
     "output_type": "stream",
     "text": [
      "Error in callback <function Halo.__init__.<locals>.clean_up at 0x7986e7637250> (for post_run_cell), with arguments args (<ExecutionResult object at 7986e7648af0, execution_count=2 error_before_exec=None error_in_exec= info=<ExecutionInfo object at 7986e7648070, raw_cell=\"from RealtimeSTT import AudioToTextRecorder\n",
      "print(..\" store_history=True silent=False shell_futures=True cell_id=a628743f-1e12-4813-9e03-d354cedbb22e> result=None>,),kwargs {}:\n"
     ]
    },
    {
     "ename": "TypeError",
     "evalue": "Halo.__init__.<locals>.clean_up() takes 0 positional arguments but 1 was given",
     "output_type": "error",
     "traceback": [
      "\u001b[0;31m---------------------------------------------------------------------------\u001b[0m",
      "\u001b[0;31mTypeError\u001b[0m                                 Traceback (most recent call last)",
      "\u001b[0;31mTypeError\u001b[0m: Halo.__init__.<locals>.clean_up() takes 0 positional arguments but 1 was given"
     ]
    },
    {
     "name": "stdout",
     "output_type": "stream",
     "text": [
      "Error in callback <function Halo.__init__.<locals>.clean_up at 0x7986e7637520> (for post_run_cell), with arguments args (<ExecutionResult object at 7986e7648af0, execution_count=2 error_before_exec=None error_in_exec= info=<ExecutionInfo object at 7986e7648070, raw_cell=\"from RealtimeSTT import AudioToTextRecorder\n",
      "print(..\" store_history=True silent=False shell_futures=True cell_id=a628743f-1e12-4813-9e03-d354cedbb22e> result=None>,),kwargs {}:\n"
     ]
    },
    {
     "ename": "TypeError",
     "evalue": "Halo.__init__.<locals>.clean_up() takes 0 positional arguments but 1 was given",
     "output_type": "error",
     "traceback": [
      "\u001b[0;31m---------------------------------------------------------------------------\u001b[0m",
      "\u001b[0;31mTypeError\u001b[0m                                 Traceback (most recent call last)",
      "\u001b[0;31mTypeError\u001b[0m: Halo.__init__.<locals>.clean_up() takes 0 positional arguments but 1 was given"
     ]
    },
    {
     "name": "stdout",
     "output_type": "stream",
     "text": [
      "Error in callback <function Halo.__init__.<locals>.clean_up at 0x7986e76377f0> (for post_run_cell), with arguments args (<ExecutionResult object at 7986e7648af0, execution_count=2 error_before_exec=None error_in_exec= info=<ExecutionInfo object at 7986e7648070, raw_cell=\"from RealtimeSTT import AudioToTextRecorder\n",
      "print(..\" store_history=True silent=False shell_futures=True cell_id=a628743f-1e12-4813-9e03-d354cedbb22e> result=None>,),kwargs {}:\n"
     ]
    },
    {
     "ename": "TypeError",
     "evalue": "Halo.__init__.<locals>.clean_up() takes 0 positional arguments but 1 was given",
     "output_type": "error",
     "traceback": [
      "\u001b[0;31m---------------------------------------------------------------------------\u001b[0m",
      "\u001b[0;31mTypeError\u001b[0m                                 Traceback (most recent call last)",
      "\u001b[0;31mTypeError\u001b[0m: Halo.__init__.<locals>.clean_up() takes 0 positional arguments but 1 was given"
     ]
    },
    {
     "name": "stdout",
     "output_type": "stream",
     "text": [
      "⠋ transcribing"
     ]
    }
   ],
   "source": [
    "from RealtimeSTT import AudioToTextRecorder\n",
    "print(\"Wait until it says 'speak now'\")\n",
    "import time\n",
    "def tt():\n",
    "    print(time.time())\n",
    "recorder = AudioToTextRecorder(model=\"medium\",device=\"cpu\",print_transcription_time=True,language=\"hi\",spinner=True)\n",
    "def pr(text):\n",
    "    print(text)\n",
    "    \n",
    "while True:\n",
    "    # recorder.text(speak_from_prompt)\n",
    "    recorder.text(pr)\n",
    "    #small, large\n",
    "    "
   ]
  },
  {
   "cell_type": "markdown",
   "id": "533e74f7-9d7b-4a67-889a-ea10f6f034f1",
   "metadata": {},
   "source": [
    "from RealtimeSTT import AudioToTextRecorder\n",
    "print(\"Wait until it says 'speak now'\")\n",
    "import time\n",
    "def tt():\n",
    "    print(time.time())\n",
    "recorder = AudioToTextRecorder(model=\"medium\",device=\"cpu\",print_transcription_time=True,language=\"hi\",spinner=True)\n",
    "def pr(text):\n",
    "    print(text)\n",
    "    \n",
    "while True:\n",
    "    # recorder.text(speak_from_prompt)\n",
    "    recorder.text(pr)\n",
    "    #small, large\n",
    "    "
   ]
  }
 ],
 "metadata": {
  "kernelspec": {
   "display_name": "Python 3 (ipykernel)",
   "language": "python",
   "name": "python3"
  },
  "language_info": {
   "codemirror_mode": {
    "name": "ipython",
    "version": 3
   },
   "file_extension": ".py",
   "mimetype": "text/x-python",
   "name": "python",
   "nbconvert_exporter": "python",
   "pygments_lexer": "ipython3",
   "version": "3.10.13"
  }
 },
 "nbformat": 4,
 "nbformat_minor": 5
}
